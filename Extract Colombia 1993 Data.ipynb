{
 "cells": [
  {
   "cell_type": "markdown",
   "metadata": {},
   "source": [
    "## Extract just the Colombia entries into a csv file"
   ]
  },
  {
   "cell_type": "code",
   "execution_count": 7,
   "metadata": {
    "collapsed": false
   },
   "outputs": [
    {
     "name": "stdout",
     "output_type": "stream",
     "text": [
      "'decimal' codec can't encode character u'\\u201c' in position 12: invalid decimal Unicode string\r\n"
     ]
    }
   ],
   "source": [
    "!in2csv -e iso-8859-1 GTD/GTD_0617dist/gtd1993_0617dist.xlsx > data/complete_93.csv"
   ]
  },
  {
   "cell_type": "code",
   "execution_count": 11,
   "metadata": {
    "collapsed": true
   },
   "outputs": [],
   "source": [
    "## Save as old_complete_93.csv from excel"
   ]
  },
  {
   "cell_type": "code",
   "execution_count": 9,
   "metadata": {
    "collapsed": false
   },
   "outputs": [],
   "source": [
    "!in2csv -e iso-8859-1 data/old_complete_93.csv > data/complete_93.csv"
   ]
  },
  {
   "cell_type": "code",
   "execution_count": 10,
   "metadata": {
    "collapsed": false
   },
   "outputs": [
    {
     "name": "stdout",
     "output_type": "stream",
     "text": [
      "  1: eventid\r\n",
      "  2: iyear\r\n",
      "  3: imonth\r\n",
      "  4: iday\r\n",
      "  5: approxdate\r\n",
      "  6: extended\r\n",
      "  7: resolution\r\n",
      "  8: country\r\n",
      "  9: country_txt\r\n",
      " 10: region\r\n",
      " 11: region_txt\r\n",
      " 12: provstate\r\n",
      " 13: city\r\n",
      " 14: latitude\r\n",
      " 15: longitude\r\n",
      " 16: specificity\r\n",
      " 17: vicinity\r\n",
      " 18: location\r\n",
      " 19: summary\r\n",
      " 20: crit1\r\n",
      " 21: crit2\r\n",
      " 22: crit3\r\n",
      " 23: doubtterr\r\n",
      " 24: alternative\r\n",
      " 25: alternative_txt\r\n",
      " 26: multiple\r\n",
      " 27: success\r\n",
      " 28: suicide\r\n",
      " 29: attacktype1\r\n",
      " 30: attacktype1_txt\r\n",
      " 31: attacktype2\r\n",
      " 32: attacktype2_txt\r\n",
      " 33: attacktype3\r\n",
      " 34: attacktype3_txt\r\n",
      " 35: targtype1\r\n",
      " 36: targtype1_txt\r\n",
      " 37: targsubtype1\r\n",
      " 38: targsubtype1_txt\r\n",
      " 39: corp1\r\n",
      " 40: target1\r\n",
      " 41: natlty1\r\n",
      " 42: natlty1_txt\r\n",
      " 43: targtype2\r\n",
      " 44: targtype2_txt\r\n",
      " 45: targsubtype2\r\n",
      " 46: targsubtype2_txt\r\n",
      " 47: corp2\r\n",
      " 48: target2\r\n",
      " 49: natlty2\r\n",
      " 50: natlty2_txt\r\n",
      " 51: targtype3\r\n",
      " 52: targtype3_txt\r\n",
      " 53: targsubtype3\r\n",
      " 54: targsubtype3_txt\r\n",
      " 55: corp3\r\n",
      " 56: target3\r\n",
      " 57: natlty3\r\n",
      " 58: natlty3_txt\r\n",
      " 59: gname\r\n",
      " 60: gsubname\r\n",
      " 61: gname2\r\n",
      " 62: gsubname2\r\n",
      " 63: gname3\r\n",
      " 64: gsubname3\r\n",
      " 65: motive\r\n",
      " 66: guncertain1\r\n",
      " 67: guncertain2\r\n",
      " 68: guncertain3\r\n",
      " 69: individual\r\n",
      " 70: nperps\r\n",
      " 71: nperpcap\r\n",
      " 72: claimed\r\n",
      " 73: claimmode\r\n",
      " 74: claimmode_txt\r\n",
      " 75: claim2\r\n",
      " 76: claimmode2\r\n",
      " 77: claimmode2_txt\r\n",
      " 78: claim3\r\n",
      " 79: claimmode3\r\n",
      " 80: claimmode3_txt\r\n",
      " 81: compclaim\r\n",
      " 82: weaptype1\r\n",
      " 83: weaptype1_txt\r\n",
      " 84: weapsubtype1\r\n",
      " 85: weapsubtype1_txt\r\n",
      " 86: weaptype2\r\n",
      " 87: weaptype2_txt\r\n",
      " 88: weapsubtype2\r\n",
      " 89: weapsubtype2_txt\r\n",
      " 90: weaptype3\r\n",
      " 91: weaptype3_txt\r\n",
      " 92: weapsubtype3\r\n",
      " 93: weapsubtype3_txt\r\n",
      " 94: weaptype4\r\n",
      " 95: weaptype4_txt\r\n",
      " 96: weapsubtype4\r\n",
      " 97: weapsubtype4_txt\r\n",
      " 98: weapdetail\r\n",
      " 99: nkill\r\n",
      "100: nkillus\r\n",
      "101: nkillter\r\n",
      "102: nwound\r\n",
      "103: nwoundus\r\n",
      "104: nwoundte\r\n",
      "105: property\r\n",
      "106: propextent\r\n",
      "107: propextent_txt\r\n",
      "108: propvalue\r\n",
      "109: propcomment\r\n",
      "110: ishostkid\r\n",
      "111: nhostkid\r\n",
      "112: nhostkidus\r\n",
      "113: nhours\r\n",
      "114: ndays\r\n",
      "115: divert\r\n",
      "116: kidhijcountry\r\n",
      "117: ransom\r\n",
      "118: ransomamt\r\n",
      "119: ransomamtus\r\n",
      "120: ransompaid\r\n",
      "121: ransompaidus\r\n",
      "122: ransomnote\r\n",
      "123: hostkidoutcome\r\n",
      "124: hostkidoutcome_txt\r\n",
      "125: nreleased\r\n",
      "126: addnotes\r\n",
      "127: scite1\r\n",
      "128: scite2\r\n",
      "129: scite3\r\n",
      "130: dbsource\r\n",
      "131: INT_LOG\r\n",
      "132: INT_IDEO\r\n",
      "133: INT_MISC\r\n",
      "134: INT_ANY\r\n",
      "135: related\r\n"
     ]
    }
   ],
   "source": [
    "!csvcut -n data/complete_93.csv"
   ]
  },
  {
   "cell_type": "code",
   "execution_count": 12,
   "metadata": {
    "collapsed": false
   },
   "outputs": [],
   "source": [
    "!csvgrep -c 9 -m Colombia data/complete_93.csv > data/colombia_93.csv"
   ]
  },
  {
   "cell_type": "code",
   "execution_count": 13,
   "metadata": {
    "collapsed": false
   },
   "outputs": [
    {
     "name": "stdout",
     "output_type": "stream",
     "text": [
      "      22 data/colombia_93.csv\r\n"
     ]
    }
   ],
   "source": [
    "#Number of attacks\n",
    "!wc -l data/colombia_93.csv"
   ]
  },
  {
   "cell_type": "code",
   "execution_count": 14,
   "metadata": {
    "collapsed": true
   },
   "outputs": [],
   "source": [
    "#Extract just the 2 year, 14 Latitude, 15 Longitude, 30 attack type, 59 prepetrator group name, 99 Fatalities\n",
    "!csvcut -c 2,14,15,30,59,99 data/colombia_93.csv > data/colombia_93_edit.csv"
   ]
  },
  {
   "cell_type": "code",
   "execution_count": 17,
   "metadata": {
    "collapsed": false
   },
   "outputs": [
    {
     "name": "stdout",
     "output_type": "stream",
     "text": [
      "  1: iyear\r\n",
      "  2: latitude\r\n",
      "  3: longitude\r\n",
      "  4: attacktype1_txt\r\n",
      "  5: gname\r\n",
      "  6: nkill\r\n"
     ]
    }
   ],
   "source": [
    "!csvcut -n data/colombia_93_edit.csv"
   ]
  },
  {
   "cell_type": "code",
   "execution_count": 18,
   "metadata": {
    "collapsed": false
   },
   "outputs": [
    {
     "name": "stdout",
     "output_type": "stream",
     "text": [
      "  1. \"iyear\"\r\n",
      "\r\n",
      "\tType of data:          Number\r\n",
      "\tContains null values:  False\r\n",
      "\tUnique values:         1\r\n",
      "\tSmallest value:        1993\r\n",
      "\tLargest value:         1993\r\n",
      "\tSum:                   41853\r\n",
      "\tMean:                  1993\r\n",
      "\tMedian:                1993\r\n",
      "\tStDev:                 0\r\n",
      "\tMost common values:    1993 (21x)\r\n",
      "\r\n",
      "  2. \"attacktype1_txt\"\r\n",
      "\r\n",
      "\tType of data:          Text\r\n",
      "\tContains null values:  False\r\n",
      "\tUnique values:         5\r\n",
      "\tLongest value:         30 characters\r\n",
      "\tMost common values:    Bombing/Explosion (13x)\r\n",
      "\t                       Hostage Taking (Kidnapping) (3x)\r\n",
      "\t                       Armed Assault (3x)\r\n",
      "\t                       Facility/Infrastructure Attack (1x)\r\n",
      "\t                       Assassination (1x)\r\n",
      "\r\n",
      "  3. \"gname\"\r\n",
      "\r\n",
      "\tType of data:          Text\r\n",
      "\tContains null values:  False\r\n",
      "\tUnique values:         7\r\n",
      "\tLongest value:         45 characters\r\n",
      "\tMost common values:    Revolutionary Armed Forces of Colombia (FARC) (6x)\r\n",
      "\t                       Other (5x)\r\n",
      "\t                       Medellin Drug Cartel (3x)\r\n",
      "\t                       National Liberation Army of Colombia (ELN) (3x)\r\n",
      "\t                       People Persecuted by Pablo Escobar (PEPES) (2x)\r\n",
      "\r\n",
      "  4. \"nkill\"\r\n",
      "\r\n",
      "\tType of data:          Number\r\n",
      "\tContains null values:  False\r\n",
      "\tUnique values:         9\r\n",
      "\tSmallest value:        0\r\n",
      "\tLargest value:         38\r\n",
      "\tSum:                   134\r\n",
      "\tMean:                  6.380952380952380952380952381\r\n",
      "\tMedian:                2\r\n",
      "\tStDev:                 11.20034013088973327983460060\r\n",
      "\tMost common values:    0 (8x)\r\n",
      "\t                       2 (5x)\r\n",
      "\t                       1 (2x)\r\n",
      "\t                       16 (1x)\r\n",
      "\t                       20 (1x)\r\n",
      "\r\n",
      "Row count: 21\r\n"
     ]
    }
   ],
   "source": [
    "!csvcut -c 1,4,5,6 data/colombia_93_edit.csv | csvstat"
   ]
  }
 ],
 "metadata": {
  "kernelspec": {
   "display_name": "Python 2",
   "language": "python",
   "name": "python2"
  },
  "language_info": {
   "codemirror_mode": {
    "name": "ipython",
    "version": 2
   },
   "file_extension": ".py",
   "mimetype": "text/x-python",
   "name": "python",
   "nbconvert_exporter": "python",
   "pygments_lexer": "ipython2",
   "version": "2.7.13"
  }
 },
 "nbformat": 4,
 "nbformat_minor": 2
}
