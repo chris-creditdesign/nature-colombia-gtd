{
 "cells": [
  {
   "cell_type": "markdown",
   "metadata": {},
   "source": [
    "## Extract just the Colombia entries into a csv file"
   ]
  },
  {
   "cell_type": "code",
   "execution_count": 4,
   "metadata": {
    "collapsed": false
   },
   "outputs": [],
   "source": [
    "!in2csv GTD/GTD_0617dist/globalterrorismdb_0617dist.xlsx > data/complete.csv"
   ]
  },
  {
   "cell_type": "code",
   "execution_count": 5,
   "metadata": {
    "collapsed": false
   },
   "outputs": [
    {
     "name": "stdout",
     "output_type": "stream",
     "text": [
      "  1: eventid\n",
      "  2: iyear\n",
      "  3: imonth\n",
      "  4: iday\n",
      "  5: approxdate\n",
      "  6: extended\n",
      "  7: resolution\n",
      "  8: country\n",
      "  9: country_txt\n",
      " 10: region\n",
      " 11: region_txt\n",
      " 12: provstate\n",
      " 13: city\n",
      " 14: latitude\n",
      " 15: longitude\n",
      " 16: specificity\n",
      " 17: vicinity\n",
      " 18: location\n",
      " 19: summary\n",
      " 20: crit1\n",
      " 21: crit2\n",
      " 22: crit3\n",
      " 23: doubtterr\n",
      " 24: alternative\n",
      " 25: alternative_txt\n",
      " 26: multiple\n",
      " 27: success\n",
      " 28: suicide\n",
      " 29: attacktype1\n",
      " 30: attacktype1_txt\n",
      " 31: attacktype2\n",
      " 32: attacktype2_txt\n",
      " 33: attacktype3\n",
      " 34: attacktype3_txt\n",
      " 35: targtype1\n",
      " 36: targtype1_txt\n",
      " 37: targsubtype1\n",
      " 38: targsubtype1_txt\n",
      " 39: corp1\n",
      " 40: target1\n",
      " 41: natlty1\n",
      " 42: natlty1_txt\n",
      " 43: targtype2\n",
      " 44: targtype2_txt\n",
      " 45: targsubtype2\n",
      " 46: targsubtype2_txt\n",
      " 47: corp2\n",
      " 48: target2\n",
      " 49: natlty2\n",
      " 50: natlty2_txt\n",
      " 51: targtype3\n",
      " 52: targtype3_txt\n",
      " 53: targsubtype3\n",
      " 54: targsubtype3_txt\n",
      " 55: corp3\n",
      " 56: target3\n",
      " 57: natlty3\n",
      " 58: natlty3_txt\n",
      " 59: gname\n",
      " 60: gsubname\n",
      " 61: gname2\n",
      " 62: gsubname2\n",
      " 63: gname3\n",
      " 64: gsubname3\n",
      " 65: motive\n",
      " 66: guncertain1\n",
      " 67: guncertain2\n",
      " 68: guncertain3\n",
      " 69: individual\n",
      " 70: nperps\n",
      " 71: nperpcap\n",
      " 72: claimed\n",
      " 73: claimmode\n",
      " 74: claimmode_txt\n",
      " 75: claim2\n",
      " 76: claimmode2\n",
      " 77: claimmode2_txt\n",
      " 78: claim3\n",
      " 79: claimmode3\n",
      " 80: claimmode3_txt\n",
      " 81: compclaim\n",
      " 82: weaptype1\n",
      " 83: weaptype1_txt\n",
      " 84: weapsubtype1\n",
      " 85: weapsubtype1_txt\n",
      " 86: weaptype2\n",
      " 87: weaptype2_txt\n",
      " 88: weapsubtype2\n",
      " 89: weapsubtype2_txt\n",
      " 90: weaptype3\n",
      " 91: weaptype3_txt\n",
      " 92: weapsubtype3\n",
      " 93: weapsubtype3_txt\n",
      " 94: weaptype4\n",
      " 95: weaptype4_txt\n",
      " 96: weapsubtype4\n",
      " 97: weapsubtype4_txt\n",
      " 98: weapdetail\n",
      " 99: nkill\n",
      "100: nkillus\n",
      "101: nkillter\n",
      "102: nwound\n",
      "103: nwoundus\n",
      "104: nwoundte\n",
      "105: property\n",
      "106: propextent\n",
      "107: propextent_txt\n",
      "108: propvalue\n",
      "109: propcomment\n",
      "110: ishostkid\n",
      "111: nhostkid\n",
      "112: nhostkidus\n",
      "113: nhours\n",
      "114: ndays\n",
      "115: divert\n",
      "116: kidhijcountry\n",
      "117: ransom\n",
      "118: ransomamt\n",
      "119: ransomamtus\n",
      "120: ransompaid\n",
      "121: ransompaidus\n",
      "122: ransomnote\n",
      "123: hostkidoutcome\n",
      "124: hostkidoutcome_txt\n",
      "125: nreleased\n",
      "126: addnotes\n",
      "127: scite1\n",
      "128: scite2\n",
      "129: scite3\n",
      "130: dbsource\n",
      "131: INT_LOG\n",
      "132: INT_IDEO\n",
      "133: INT_MISC\n",
      "134: INT_ANY\n",
      "135: related\n"
     ]
    }
   ],
   "source": [
    "!csvcut -n data/complete.csv"
   ]
  },
  {
   "cell_type": "code",
   "execution_count": 14,
   "metadata": {
    "collapsed": false
   },
   "outputs": [],
   "source": [
    "!csvgrep -c 9 -m Colombia data/complete.csv > data/colombia.csv"
   ]
  },
  {
   "cell_type": "code",
   "execution_count": 15,
   "metadata": {
    "collapsed": false
   },
   "outputs": [
    {
     "name": "stdout",
     "output_type": "stream",
     "text": [
      "    8164 data/colombia.csv\r\n"
     ]
    }
   ],
   "source": [
    "#Number of attacks\n",
    "!wc -l data/colombia.csv"
   ]
  },
  {
   "cell_type": "code",
   "execution_count": 16,
   "metadata": {
    "collapsed": true
   },
   "outputs": [],
   "source": [
    "#Extract just the 2 year, 14 Latitude, 15 Longitude, 30 attack type, 59 prepetrator group name, 99 Fatalities\n",
    "!csvcut -c 2,14,15,30,59,99 data/colombia.csv > data/colombia_edit.csv"
   ]
  },
  {
   "cell_type": "code",
   "execution_count": 18,
   "metadata": {
    "collapsed": false
   },
   "outputs": [
    {
     "name": "stdout",
     "output_type": "stream",
     "text": [
      "  1: iyear\r\n",
      "  2: latitude\r\n",
      "  3: longitude\r\n",
      "  4: attacktype1_txt\r\n",
      "  5: gname\r\n",
      "  6: nkill\r\n"
     ]
    }
   ],
   "source": [
    "!csvcut -n data/colombia_edit.csv"
   ]
  },
  {
   "cell_type": "code",
   "execution_count": 20,
   "metadata": {
    "collapsed": false
   },
   "outputs": [
    {
     "name": "stdout",
     "output_type": "stream",
     "text": [
      "  1. \"iyear\"\r\n",
      "\r\n",
      "\tType of data:          Number\r\n",
      "\tContains null values:  False\r\n",
      "\tUnique values:         44\r\n",
      "\tSmallest value:        1970\r\n",
      "\tLargest value:         2016\r\n",
      "\tSum:                   16273169\r\n",
      "\tMean:                  1993.527992159745191718730859\r\n",
      "\tMedian:                1991\r\n",
      "\tStDev:                 10.03781354594116326616995737\r\n",
      "\tMost common values:    1997 (598x)\r\n",
      "\t                       1992 (523x)\r\n",
      "\t                       1989 (492x)\r\n",
      "\t                       1988 (427x)\r\n",
      "\t                       1991 (420x)\r\n",
      "\r\n",
      "  2. \"attacktype1_txt\"\r\n",
      "\r\n",
      "\tType of data:          Text\r\n",
      "\tContains null values:  False\r\n",
      "\tUnique values:         9\r\n",
      "\tLongest value:         35 characters\r\n",
      "\tMost common values:    Bombing/Explosion (3075x)\r\n",
      "\t                       Armed Assault (1933x)\r\n",
      "\t                       Assassination (1331x)\r\n",
      "\t                       Hostage Taking (Kidnapping) (1031x)\r\n",
      "\t                       Unknown (393x)\r\n",
      "\r\n",
      "  3. \"gname\"\r\n",
      "\r\n",
      "\tType of data:          Text\r\n",
      "\tContains null values:  False\r\n",
      "\tUnique values:         107\r\n",
      "\tLongest value:         67 characters\r\n",
      "\tMost common values:    Revolutionary Armed Forces of Colombia (FARC) (2462x)\r\n",
      "\t                       Unknown (2046x)\r\n",
      "\t                       National Liberation Army of Colombia (ELN) (1451x)\r\n",
      "\t                       M-19 (Movement of April 19) (543x)\r\n",
      "\t                       Narco-Terrorists (349x)\r\n",
      "\r\n",
      "  4. \"nkill\"\r\n",
      "\r\n",
      "\tType of data:          Number\r\n",
      "\tContains null values:  True (excluded from calculations)\r\n",
      "\tUnique values:         50\r\n",
      "\tSmallest value:        0\r\n",
      "\tLargest value:         275\r\n",
      "\tSum:                   14600\r\n",
      "\tMean:                  1.894381730893992474373945764\r\n",
      "\tMedian:                0\r\n",
      "\tStDev:                 5.687465634397594741537899316\r\n",
      "\tMost common values:    0 (4194x)\r\n",
      "\t                       1 (1402x)\r\n",
      "\t                       2 (571x)\r\n",
      "\t                       None (456x)\r\n",
      "\t                       3 (364x)\r\n",
      "\r\n",
      "Row count: 8163\r\n"
     ]
    }
   ],
   "source": [
    "!csvcut -c 1,4,5,6 data/colombia_edit.csv | csvstat"
   ]
  }
 ],
 "metadata": {
  "kernelspec": {
   "display_name": "Python 2",
   "language": "python",
   "name": "python2"
  },
  "language_info": {
   "codemirror_mode": {
    "name": "ipython",
    "version": 2
   },
   "file_extension": ".py",
   "mimetype": "text/x-python",
   "name": "python",
   "nbconvert_exporter": "python",
   "pygments_lexer": "ipython2",
   "version": "2.7.13"
  }
 },
 "nbformat": 4,
 "nbformat_minor": 2
}
