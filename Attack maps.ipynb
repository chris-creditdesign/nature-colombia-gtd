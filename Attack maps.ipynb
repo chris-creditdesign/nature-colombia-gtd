{
 "cells": [
  {
   "cell_type": "markdown",
   "metadata": {},
   "source": [
    "## import pandas and numpy"
   ]
  },
  {
   "cell_type": "code",
   "execution_count": 1,
   "metadata": {
    "collapsed": true
   },
   "outputs": [],
   "source": [
    "import pandas as pd\n",
    "import numpy as np\n",
    "import matplotlib.pyplot as plt\n",
    "%matplotlib inline"
   ]
  },
  {
   "cell_type": "markdown",
   "metadata": {},
   "source": [
    "## Load the data into Pandas"
   ]
  },
  {
   "cell_type": "code",
   "execution_count": 2,
   "metadata": {
    "collapsed": true
   },
   "outputs": [],
   "source": [
    "colombia = pd.read_csv(\"data/colombia_edit.csv\")"
   ]
  },
  {
   "cell_type": "code",
   "execution_count": 3,
   "metadata": {
    "collapsed": false
   },
   "outputs": [
    {
     "data": {
      "text/html": [
       "<div>\n",
       "<table border=\"1\" class=\"dataframe\">\n",
       "  <thead>\n",
       "    <tr style=\"text-align: right;\">\n",
       "      <th></th>\n",
       "      <th>iyear</th>\n",
       "      <th>latitude</th>\n",
       "      <th>longitude</th>\n",
       "      <th>attacktype1_txt</th>\n",
       "      <th>gname</th>\n",
       "      <th>nkill</th>\n",
       "    </tr>\n",
       "  </thead>\n",
       "  <tbody>\n",
       "    <tr>\n",
       "      <th>0</th>\n",
       "      <td>1970</td>\n",
       "      <td>5.059097</td>\n",
       "      <td>-75.505960</td>\n",
       "      <td>Hostage Taking (Kidnapping)</td>\n",
       "      <td>Unknown</td>\n",
       "      <td>NaN</td>\n",
       "    </tr>\n",
       "    <tr>\n",
       "      <th>1</th>\n",
       "      <td>1972</td>\n",
       "      <td>4.594635</td>\n",
       "      <td>-74.093737</td>\n",
       "      <td>Assassination</td>\n",
       "      <td>Unknown</td>\n",
       "      <td>1.0</td>\n",
       "    </tr>\n",
       "    <tr>\n",
       "      <th>2</th>\n",
       "      <td>1972</td>\n",
       "      <td>6.267500</td>\n",
       "      <td>-75.568611</td>\n",
       "      <td>Hostage Taking (Kidnapping)</td>\n",
       "      <td>National Liberation Army of Colombia (ELN)</td>\n",
       "      <td>0.0</td>\n",
       "    </tr>\n",
       "    <tr>\n",
       "      <th>3</th>\n",
       "      <td>1973</td>\n",
       "      <td>NaN</td>\n",
       "      <td>NaN</td>\n",
       "      <td>Hostage Taking (Kidnapping)</td>\n",
       "      <td>National Liberation Army of Colombia (ELN)</td>\n",
       "      <td>0.0</td>\n",
       "    </tr>\n",
       "    <tr>\n",
       "      <th>4</th>\n",
       "      <td>1973</td>\n",
       "      <td>8.312931</td>\n",
       "      <td>-75.142561</td>\n",
       "      <td>Hostage Taking (Kidnapping)</td>\n",
       "      <td>Popular Liberation Army (EPL)</td>\n",
       "      <td>NaN</td>\n",
       "    </tr>\n",
       "  </tbody>\n",
       "</table>\n",
       "</div>"
      ],
      "text/plain": [
       "   iyear  latitude  longitude              attacktype1_txt  \\\n",
       "0   1970  5.059097 -75.505960  Hostage Taking (Kidnapping)   \n",
       "1   1972  4.594635 -74.093737                Assassination   \n",
       "2   1972  6.267500 -75.568611  Hostage Taking (Kidnapping)   \n",
       "3   1973       NaN        NaN  Hostage Taking (Kidnapping)   \n",
       "4   1973  8.312931 -75.142561  Hostage Taking (Kidnapping)   \n",
       "\n",
       "                                        gname  nkill  \n",
       "0                                     Unknown    NaN  \n",
       "1                                     Unknown    1.0  \n",
       "2  National Liberation Army of Colombia (ELN)    0.0  \n",
       "3  National Liberation Army of Colombia (ELN)    0.0  \n",
       "4               Popular Liberation Army (EPL)    NaN  "
      ]
     },
     "execution_count": 3,
     "metadata": {},
     "output_type": "execute_result"
    }
   ],
   "source": [
    "colombia.head()"
   ]
  },
  {
   "cell_type": "code",
   "execution_count": 4,
   "metadata": {
    "collapsed": false
   },
   "outputs": [
    {
     "data": {
      "text/html": [
       "<div>\n",
       "<table border=\"1\" class=\"dataframe\">\n",
       "  <thead>\n",
       "    <tr style=\"text-align: right;\">\n",
       "      <th></th>\n",
       "      <th>iyear</th>\n",
       "      <th>latitude</th>\n",
       "      <th>longitude</th>\n",
       "      <th>attacktype1_txt</th>\n",
       "      <th>gname</th>\n",
       "      <th>nkill</th>\n",
       "    </tr>\n",
       "  </thead>\n",
       "  <tbody>\n",
       "    <tr>\n",
       "      <th>0</th>\n",
       "      <td>1970</td>\n",
       "      <td>5.059097</td>\n",
       "      <td>-75.505960</td>\n",
       "      <td>Hostage Taking (Kidnapping)</td>\n",
       "      <td>Unknown</td>\n",
       "      <td>0.0</td>\n",
       "    </tr>\n",
       "    <tr>\n",
       "      <th>1</th>\n",
       "      <td>1972</td>\n",
       "      <td>4.594635</td>\n",
       "      <td>-74.093737</td>\n",
       "      <td>Assassination</td>\n",
       "      <td>Unknown</td>\n",
       "      <td>1.0</td>\n",
       "    </tr>\n",
       "    <tr>\n",
       "      <th>2</th>\n",
       "      <td>1972</td>\n",
       "      <td>6.267500</td>\n",
       "      <td>-75.568611</td>\n",
       "      <td>Hostage Taking (Kidnapping)</td>\n",
       "      <td>National Liberation Army of Colombia (ELN)</td>\n",
       "      <td>0.0</td>\n",
       "    </tr>\n",
       "    <tr>\n",
       "      <th>3</th>\n",
       "      <td>1973</td>\n",
       "      <td>NaN</td>\n",
       "      <td>NaN</td>\n",
       "      <td>Hostage Taking (Kidnapping)</td>\n",
       "      <td>National Liberation Army of Colombia (ELN)</td>\n",
       "      <td>0.0</td>\n",
       "    </tr>\n",
       "    <tr>\n",
       "      <th>4</th>\n",
       "      <td>1973</td>\n",
       "      <td>8.312931</td>\n",
       "      <td>-75.142561</td>\n",
       "      <td>Hostage Taking (Kidnapping)</td>\n",
       "      <td>Popular Liberation Army (EPL)</td>\n",
       "      <td>0.0</td>\n",
       "    </tr>\n",
       "  </tbody>\n",
       "</table>\n",
       "</div>"
      ],
      "text/plain": [
       "   iyear  latitude  longitude              attacktype1_txt  \\\n",
       "0   1970  5.059097 -75.505960  Hostage Taking (Kidnapping)   \n",
       "1   1972  4.594635 -74.093737                Assassination   \n",
       "2   1972  6.267500 -75.568611  Hostage Taking (Kidnapping)   \n",
       "3   1973       NaN        NaN  Hostage Taking (Kidnapping)   \n",
       "4   1973  8.312931 -75.142561  Hostage Taking (Kidnapping)   \n",
       "\n",
       "                                        gname  nkill  \n",
       "0                                     Unknown    0.0  \n",
       "1                                     Unknown    1.0  \n",
       "2  National Liberation Army of Colombia (ELN)    0.0  \n",
       "3  National Liberation Army of Colombia (ELN)    0.0  \n",
       "4               Popular Liberation Army (EPL)    0.0  "
      ]
     },
     "execution_count": 4,
     "metadata": {},
     "output_type": "execute_result"
    }
   ],
   "source": [
    "# Replace the NaN kills with 0\n",
    "colombia['nkill'].fillna(0,  inplace=True)\n",
    "colombia.head()"
   ]
  },
  {
   "cell_type": "code",
   "execution_count": 7,
   "metadata": {
    "collapsed": false
   },
   "outputs": [
    {
     "data": {
      "text/plain": [
       "8163"
      ]
     },
     "execution_count": 7,
     "metadata": {},
     "output_type": "execute_result"
    }
   ],
   "source": [
    "len(colombia.index)"
   ]
  },
  {
   "cell_type": "code",
   "execution_count": 8,
   "metadata": {
    "collapsed": false
   },
   "outputs": [
    {
     "data": {
      "text/plain": [
       "count    8163.000000\n",
       "mean        1.788558\n",
       "std         5.543407\n",
       "min         0.000000\n",
       "25%         0.000000\n",
       "50%         0.000000\n",
       "75%         2.000000\n",
       "max       275.000000\n",
       "Name: nkill, dtype: float64"
      ]
     },
     "execution_count": 8,
     "metadata": {},
     "output_type": "execute_result"
    }
   ],
   "source": [
    "colombia['nkill'].describe()"
   ]
  },
  {
   "cell_type": "code",
   "execution_count": 11,
   "metadata": {
    "collapsed": false
   },
   "outputs": [
    {
     "data": {
      "text/plain": [
       "count                  8163\n",
       "unique                    9\n",
       "top       Bombing/Explosion\n",
       "freq                   3075\n",
       "Name: attacktype1_txt, dtype: object"
      ]
     },
     "execution_count": 11,
     "metadata": {},
     "output_type": "execute_result"
    }
   ],
   "source": [
    "colombia['attacktype1_txt'].describe()"
   ]
  },
  {
   "cell_type": "code",
   "execution_count": 12,
   "metadata": {
    "collapsed": false
   },
   "outputs": [
    {
     "data": {
      "text/plain": [
       "count                                              8163\n",
       "unique                                              107\n",
       "top       Revolutionary Armed Forces of Colombia (FARC)\n",
       "freq                                               2462\n",
       "Name: gname, dtype: object"
      ]
     },
     "execution_count": 12,
     "metadata": {},
     "output_type": "execute_result"
    }
   ],
   "source": [
    "colombia['gname'].describe()"
   ]
  },
  {
   "cell_type": "code",
   "execution_count": 9,
   "metadata": {
    "collapsed": false
   },
   "outputs": [
    {
     "data": {
      "text/html": [
       "<div>\n",
       "<table border=\"1\" class=\"dataframe\">\n",
       "  <thead>\n",
       "    <tr style=\"text-align: right;\">\n",
       "      <th></th>\n",
       "      <th>iyear</th>\n",
       "      <th>latitude</th>\n",
       "      <th>longitude</th>\n",
       "      <th>attacktype1_txt</th>\n",
       "      <th>gname</th>\n",
       "      <th>nkill</th>\n",
       "    </tr>\n",
       "  </thead>\n",
       "  <tbody>\n",
       "    <tr>\n",
       "      <th>0</th>\n",
       "      <td>1970</td>\n",
       "      <td>5.059097</td>\n",
       "      <td>-75.505960</td>\n",
       "      <td>Hostage Taking (Kidnapping)</td>\n",
       "      <td>Unknown</td>\n",
       "      <td>0.0</td>\n",
       "    </tr>\n",
       "    <tr>\n",
       "      <th>1</th>\n",
       "      <td>1972</td>\n",
       "      <td>4.594635</td>\n",
       "      <td>-74.093737</td>\n",
       "      <td>Assassination</td>\n",
       "      <td>Unknown</td>\n",
       "      <td>1.0</td>\n",
       "    </tr>\n",
       "    <tr>\n",
       "      <th>2</th>\n",
       "      <td>1972</td>\n",
       "      <td>6.267500</td>\n",
       "      <td>-75.568611</td>\n",
       "      <td>Hostage Taking (Kidnapping)</td>\n",
       "      <td>National Liberation Army of Colombia (ELN)</td>\n",
       "      <td>0.0</td>\n",
       "    </tr>\n",
       "    <tr>\n",
       "      <th>4</th>\n",
       "      <td>1973</td>\n",
       "      <td>8.312931</td>\n",
       "      <td>-75.142561</td>\n",
       "      <td>Hostage Taking (Kidnapping)</td>\n",
       "      <td>Popular Liberation Army (EPL)</td>\n",
       "      <td>0.0</td>\n",
       "    </tr>\n",
       "    <tr>\n",
       "      <th>5</th>\n",
       "      <td>1973</td>\n",
       "      <td>7.594170</td>\n",
       "      <td>-74.811900</td>\n",
       "      <td>Hostage Taking (Kidnapping)</td>\n",
       "      <td>National Liberation Army of Colombia (ELN)</td>\n",
       "      <td>0.0</td>\n",
       "    </tr>\n",
       "  </tbody>\n",
       "</table>\n",
       "</div>"
      ],
      "text/plain": [
       "   iyear  latitude  longitude              attacktype1_txt  \\\n",
       "0   1970  5.059097 -75.505960  Hostage Taking (Kidnapping)   \n",
       "1   1972  4.594635 -74.093737                Assassination   \n",
       "2   1972  6.267500 -75.568611  Hostage Taking (Kidnapping)   \n",
       "4   1973  8.312931 -75.142561  Hostage Taking (Kidnapping)   \n",
       "5   1973  7.594170 -74.811900  Hostage Taking (Kidnapping)   \n",
       "\n",
       "                                        gname  nkill  \n",
       "0                                     Unknown    0.0  \n",
       "1                                     Unknown    1.0  \n",
       "2  National Liberation Army of Colombia (ELN)    0.0  \n",
       "4               Popular Liberation Army (EPL)    0.0  \n",
       "5  National Liberation Army of Colombia (ELN)    0.0  "
      ]
     },
     "execution_count": 9,
     "metadata": {},
     "output_type": "execute_result"
    }
   ],
   "source": [
    "colombia_lat_long = colombia.dropna(how='any')\n",
    "colombia_lat_long.head()"
   ]
  },
  {
   "cell_type": "code",
   "execution_count": 10,
   "metadata": {
    "collapsed": false
   },
   "outputs": [
    {
     "data": {
      "text/plain": [
       "7699"
      ]
     },
     "execution_count": 10,
     "metadata": {},
     "output_type": "execute_result"
    }
   ],
   "source": [
    "len(colombia_lat_long.index)"
   ]
  },
  {
   "cell_type": "code",
   "execution_count": 16,
   "metadata": {
    "collapsed": true
   },
   "outputs": [],
   "source": [
    "colombia_1970 = colombia[(colombia['iyear'] >= 1970) & (colombia['iyear'] < 1980)]"
   ]
  },
  {
   "cell_type": "code",
   "execution_count": 17,
   "metadata": {
    "collapsed": true
   },
   "outputs": [],
   "source": [
    "colombia_1980 = colombia[(colombia['iyear'] >= 1980) & (colombia['iyear'] < 1989)]"
   ]
  },
  {
   "cell_type": "code",
   "execution_count": 18,
   "metadata": {
    "collapsed": true
   },
   "outputs": [],
   "source": [
    "colombia_1990 = colombia[(colombia['iyear'] >= 1990) & (colombia['iyear'] < 1999)]"
   ]
  },
  {
   "cell_type": "code",
   "execution_count": 19,
   "metadata": {
    "collapsed": true
   },
   "outputs": [],
   "source": [
    "colombia_2000 = colombia[(colombia['iyear'] >= 2000) & (colombia['iyear'] < 2010)]"
   ]
  },
  {
   "cell_type": "code",
   "execution_count": 20,
   "metadata": {
    "collapsed": true
   },
   "outputs": [],
   "source": [
    "colombia_2010 = colombia[(colombia['iyear'] >= 2010) & (colombia['iyear'] < 2020)]"
   ]
  },
  {
   "cell_type": "code",
   "execution_count": 21,
   "metadata": {
    "collapsed": true
   },
   "outputs": [],
   "source": [
    "colombia_1970.to_csv('./data/colombia_1970.csv')\n",
    "colombia_1980.to_csv('./data/colombia_1980.csv')\n",
    "colombia_1990.to_csv('./data/colombia_1990.csv')\n",
    "colombia_2000.to_csv('./data/colombia_2000.csv')\n",
    "colombia_2010.to_csv('./data/colombia_2010.csv')"
   ]
  },
  {
   "cell_type": "code",
   "execution_count": null,
   "metadata": {
    "collapsed": true
   },
   "outputs": [],
   "source": []
  }
 ],
 "metadata": {
  "kernelspec": {
   "display_name": "Python 2",
   "language": "python",
   "name": "python2"
  },
  "language_info": {
   "codemirror_mode": {
    "name": "ipython",
    "version": 2
   },
   "file_extension": ".py",
   "mimetype": "text/x-python",
   "name": "python",
   "nbconvert_exporter": "python",
   "pygments_lexer": "ipython2",
   "version": "2.7.13"
  }
 },
 "nbformat": 4,
 "nbformat_minor": 2
}
